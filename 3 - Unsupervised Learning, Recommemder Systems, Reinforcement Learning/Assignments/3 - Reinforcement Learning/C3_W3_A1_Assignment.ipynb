{
 "cells": [
  {
   "cell_type": "markdown",
   "metadata": {},
   "source": [
    "# Deep Q-Learning - Lunar Lander\n",
    "\n",
    "In this assignment, you will train an agent to land a lunar lander safely on a landing pad on the surface of the moon.\n",
    "\n",
    "\n",
    "# Outline\n",
    "- [ 1 - Import Packages <img align=\"Right\" src=\"./images/lunar_lander.gif\" width = 60% >](#1)\n",
    "- [ 2 - Hyperparameters](#2)\n",
    "- [ 3 - The Lunar Lander Environment](#3)\n",
    "  - [ 3.1 Action Space](#3.1)\n",
    "  - [ 3.2 Observation Space](#3.2)\n",
    "  - [ 3.3 Rewards](#3.3)\n",
    "  - [ 3.4 Episode Termination](#3.4)\n",
    "- [ 4 - Load the Environment](#4)\n",
    "- [ 5 - Interacting with the Gym Environment](#5)\n",
    "    - [ 5.1 Exploring the Environment's Dynamics](#5.1)\n",
    "- [ 6 - Deep Q-Learning](#6)\n",
    "  - [ 6.1 Target Network](#6.1)\n",
    "    - [ Exercise 1](#ex01)\n",
    "  - [ 6.2 Experience Replay](#6.2)\n",
    "- [ 7 - Deep Q-Learning Algorithm with Experience Replay](#7)\n",
    "  - [ Exercise 2](#ex02)\n",
    "- [ 8 - Update the Network Weights](#8)\n",
    "- [ 9 - Train the Agent](#9)\n",
    "- [ 10 - See the Trained Agent In Action](#10)\n",
    "- [ 11 - Congratulations!](#11)\n",
    "- [ 12 - References](#12)\n"
   ]
  },
  {
   "cell_type": "markdown",
   "metadata": {},
   "source": [
    "<a name=\"1\"></a>\n",
    "## 1 - Import Packages\n",
    "\n",
    "We'll make use of the following packages:\n",
    "- `numpy` is a package for scientific computing in python.\n",
    "- `deque` will be our data structure for our memory buffer.\n",
    "- `namedtuple` will be used to store the experience tuples.\n",
    "- The `gym` toolkit is a collection of environments that can be used to test reinforcement learning algorithms. We should note that in this notebook we are using `gym` version `0.24.0`.\n",
    "- `PIL.Image` and `pyvirtualdisplay` are needed to render the Lunar Lander environment.\n",
    "- We will use several modules from the `tensorflow.keras` framework for building deep learning models.\n",
    "- `utils` is a module that contains helper functions for this assignment. You do not need to modify the code in this file.\n",
    "\n",
    "Run the cell below to import all the necessary packages."
   ]
  },
  {
   "cell_type": "code",
   "execution_count": 1,
   "metadata": {
    "id": "KYbOPKRtfQOr"
   },
   "outputs": [],
   "source": [
    "import time\n",
    "from collections import deque, namedtuple\n",
    "\n",
    "import gym\n",
    "import numpy as np\n",
    "import PIL.Image\n",
    "import tensorflow as tf\n",
    "import utils\n",
    "\n",
    "from pyvirtualdisplay import Display\n",
    "from tensorflow.keras import Sequential\n",
    "from tensorflow.keras.layers import Dense, Input\n",
    "from tensorflow.keras.losses import MSE\n",
    "from tensorflow.keras.optimizers import Adam"
   ]
  },
  {
   "cell_type": "code",
   "execution_count": 2,
   "metadata": {},
   "outputs": [],
   "source": [
    "# Set up a virtual display to render the Lunar Lander environment.\n",
    "Display(visible=0, size=(840, 480)).start();\n",
    "\n",
    "# Set the random seed for TensorFlow\n",
    "tf.random.set_seed(utils.SEED)"
   ]
  },
  {
   "cell_type": "markdown",
   "metadata": {},
   "source": [
    "<a name=\"2\"></a>\n",
    "## 2 - Hyperparameters\n",
    "\n",
    "Run the cell below to set the hyperparameters."
   ]
  },
  {
   "cell_type": "code",
   "execution_count": 3,
   "metadata": {},
   "outputs": [],
   "source": [
    "MEMORY_SIZE = 100_000     # size of memory buffer\n",
    "GAMMA = 0.995             # discount factor\n",
    "ALPHA = 1e-3              # learning rate  \n",
    "NUM_STEPS_FOR_UPDATE = 4  # perform a learning update every C time steps"
   ]
  },
  {
   "cell_type": "markdown",
   "metadata": {},
   "source": [
    "<a name=\"3\"></a>\n",
    "## 3 - The Lunar Lander Environment\n",
    "\n",
    "In this notebook we will be using [OpenAI's Gym Library](https://www.gymlibrary.ml/). The Gym library provides a wide variety of environments for reinforcement learning. To put it simply, an environment represents a problem or task to be solved. In this notebook, we will try to solve the Lunar Lander environment using reinforcement learning.\n",
    "\n",
    "The goal of the Lunar Lander environment is to land the lunar lander safely on the landing pad on the surface of the moon. The landing pad is designated by two flag poles and it is always at coordinates `(0,0)` but the lander is also allowed to land outside of the landing pad. The lander starts at the top center of the environment with a random initial force applied to its center of mass and has infinite fuel. The environment is considered solved if you get `200` points. \n",
    "\n",
    "<br>\n",
    "<br>\n",
    "<figure>\n",
    "  <img src = \"images/lunar_lander.gif\" width = 40%>\n",
    "      <figcaption style = \"text-align: center; font-style: italic\">Fig 1. Lunar Lander Environment.</figcaption>\n",
    "</figure>\n",
    "\n",
    "\n",
    "\n",
    "<a name=\"3.1\"></a>\n",
    "### 3.1 Action Space\n",
    "\n",
    "The agent has four discrete actions available:\n",
    "\n",
    "* Do nothing.\n",
    "* Fire right engine.\n",
    "* Fire main engine.\n",
    "* Fire left engine.\n",
    "\n",
    "Each action has a corresponding numerical value:\n",
    "\n",
    "```python\n",
    "Do nothing = 0\n",
    "Fire right engine = 1\n",
    "Fire main engine = 2\n",
    "Fire left engine = 3\n",
    "```\n",
    "\n",
    "<a name=\"3.2\"></a>\n",
    "### 3.2 Observation Space\n",
    "\n",
    "The agent's observation space consists of a state vector with 8 variables:\n",
    "\n",
    "* Its $(x,y)$ coordinates. The landing pad is always at coordinates $(0,0)$.\n",
    "* Its linear velocities $(\\dot x,\\dot y)$.\n",
    "* Its angle $\\theta$.\n",
    "* Its angular velocity $\\dot \\theta$.\n",
    "* Two booleans, $l$ and $r$, that represent whether each leg is in contact with the ground or not.\n",
    "\n",
    "<a name=\"3.3\"></a>\n",
    "### 3.3 Rewards\n",
    "\n",
    "The Lunar Lander environment has the following reward system:\n",
    "\n",
    "* Landing on the landing pad and coming to rest is about 100-140 points.\n",
    "* If the lander moves away from the landing pad, it loses reward. \n",
    "* If the lander crashes, it receives -100 points.\n",
    "* If the lander comes to rest, it receives +100 points.\n",
    "* Each leg with ground contact is +10 points.\n",
    "* Firing the main engine is -0.3 points each frame.\n",
    "* Firing the side engine is -0.03 points each frame.\n",
    "\n",
    "<a name=\"3.4\"></a>\n",
    "### 3.4 Episode Termination\n",
    "\n",
    "An episode ends (i.e the environment enters a terminal state) if:\n",
    "\n",
    "* The lunar lander crashes (i.e if the body of the lunar lander comes in contact with the surface of the moon).\n",
    "\n",
    "* The lander's $x$-coordinate is greater than 1.\n",
    "\n",
    "You can check out the [Open AI Gym documentation](https://www.gymlibrary.ml/environments/box2d/lunar_lander/) for a full description of the environment. "
   ]
  },
  {
   "cell_type": "markdown",
   "metadata": {},
   "source": [
    "<a name=\"4\"></a>\n",
    "## 4 - Load the Environment\n",
    "\n",
    "We start by loading the `LunarLander-v2` environment from the `gym` library by using the `.make()` method. `LunarLander-v2` is the latest version of the Lunar Lander environment and you can read about its version history in the [Open AI Gym documentation](https://www.gymlibrary.ml/environments/box2d/lunar_lander/#version-history)."
   ]
  },
  {
   "cell_type": "code",
   "execution_count": 5,
   "metadata": {
    "id": "ILVMYKewfR0n"
   },
   "outputs": [],
   "source": [
    "env = gym.make('LunarLander-v2')"
   ]
  },
  {
   "cell_type": "markdown",
   "metadata": {},
   "source": [
    "Once we load the environment we use the `.reset()` method to reset the environment to the initial state. The lander starts at the top center of the environment and we can render the first frame of the environment by using the `.render()` method."
   ]
  },
  {
   "cell_type": "code",
   "execution_count": 9,
   "metadata": {},
   "outputs": [
    {
     "data": {
      "image/png": "[encoded data removed]",
      "text/plain": [
       "<PIL.Image.Image image mode=RGB size=600x400 at 0x7F20A40AFC10>"
      ]
     },
     "execution_count": 9,
     "metadata": {},
     "output_type": "execute_result"
    }
   ],
   "source": [
    "env.reset()\n",
    "PIL.Image.fromarray(env.render(mode='rgb_array'))"
   ]
  },
  {
   "cell_type": "markdown",
   "metadata": {},
   "source": [
    "In order to build our neural network later on we need to know the size of the state vector and the number of valid actions. We can get this information from our environment by using the `.observation_space.shape` and `action_space.n` methods, respectively."
   ]
  },
  {
   "cell_type": "code",
   "execution_count": 10,
   "metadata": {
    "id": "x3fdqdG4CUu2",
    "scrolled": true
   },
   "outputs": [
    {
     "name": "stdout",
     "output_type": "stream",
     "text": [
      "State Shape: (8,)\n",
      "Number of actions: 4\n"
     ]
    }
   ],
   "source": [
    "state_size = env.observation_space.shape\n",
    "num_actions = env.action_space.n\n",
    "\n",
    "print('State Shape:', state_size)\n",
    "print('Number of actions:', num_actions)"
   ]
  },
  {
   "cell_type": "markdown",
   "metadata": {},
   "source": [
    "<a name=\"5\"></a>\n",
    "## 5 - Interacting with the Gym Environment\n",
    "\n",
    "The Gym library implements the standard “agent-environment loop” formalism:\n",
    "\n",
    "<br>\n",
    "<center>\n",
    "<video src = \"./videos/rl_formalism.m4v\" width=\"840\" height=\"480\" controls autoplay loop poster=\"./images/rl_formalism.png\"> </video>\n",
    "<figcaption style = \"text-align:center; font-style:italic\">Fig 2. Agent-environment Loop Formalism.</figcaption>\n",
    "</center>\n",
    "<br>\n",
    "\n",
    "In the standard “agent-environment loop” formalism, an agent interacts with the environment in discrete time steps $t=0,1,2,...$. At each time step $t$, the agent uses a policy $\\pi$ to select an action $A_t$ based on its observation of the environment's state $S_t$. The agent receives a numerical reward $R_t$ and on the next time step, moves to a new state $S_{t+1}$.\n",
    "\n",
    "<a name=\"5.1\"></a>\n",
    "### 5.1 Exploring the Environment's Dynamics\n",
    "\n",
    "In Open AI's Gym environments, we use the `.step()` method to run a single time step of the environment's dynamics. In the version of `gym` that we are using the `.step()` method accepts an action and returns four values:\n",
    "\n",
    "* `observation` (**object**): an environment-specific object representing your observation of the environment. In the Lunar Lander environment this corresponds to a numpy array containing the positions and velocities of the lander as described in section [3.2 Observation Space](#3.2).\n",
    "\n",
    "\n",
    "* `reward` (**float**): amount of reward returned as a result of taking the given action. In the Lunar Lander environment this corresponds to a float of type `numpy.float64` as described in section [3.3 Rewards](#3.3).\n",
    "\n",
    "\n",
    "* `done` (**boolean**): When done is `True`, it indicates the episode has terminated and it’s time to reset the environment. \n",
    "\n",
    "\n",
    "* `info` (**dictionary**): diagnostic information useful for debugging. We won't be using this variable in this notebook but it is shown here for completeness.\n",
    "\n",
    "To begin an episode, we need to reset the environment to an initial state. We do this by using the `.reset()` method. "
   ]
  },
  {
   "cell_type": "code",
   "execution_count": 12,
   "metadata": {},
   "outputs": [],
   "source": [
    "# Reset the environment and get the initial state.\n",
    "initial_state = env.reset()"
   ]
  },
  {
   "cell_type": "markdown",
   "metadata": {},
   "source": [
    "Once the environment is reset, the agent can start taking actions in the environment by using the `.step()` method. Note that the agent can only take one action per time step. \n",
    "\n",
    "In the cell below you can select different actions and see how the returned values change depending on the action taken. Remember that in this environment the agent has four discrete actions available and we specify them in code by using their corresponding numerical value:\n",
    "\n",
    "```python\n",
    "Do nothing = 0\n",
    "Fire right engine = 1\n",
    "Fire main engine = 2\n",
    "Fire left engine = 3\n",
    "```"
   ]
  },
  {
   "cell_type": "code",
   "execution_count": 22,
   "metadata": {},
   "outputs": [
    {
     "name": "stdout",
     "output_type": "stream",
     "text": [
      "Initial State: [-0.004 1.404 -0.390 -0.304 0.004 0.088 0.000 0.000]\n",
      "Action: 2\n",
      "Next State: [-0.043 1.357 -0.390 -0.113 0.050 0.104 0.000 0.000]\n",
      "Reward Received: 0.30614624029713583\n",
      "Episode Terminated: False\n",
      "Info: {}\n"
     ]
    }
   ],
   "source": [
    "# Select an action\n",
    "action = 2\n",
    "\n",
    "# Run a single time step of the environment's dynamics with the given action.\n",
    "next_state, reward, done, info = env.step(action)\n",
    " \n",
    "with np.printoptions(formatter={'float': '{:.3f}'.format}):\n",
    "    print(\"Initial State:\", initial_state)\n",
    "    print(\"Action:\", action)\n",
    "    print(\"Next State:\", next_state)\n",
    "    print(\"Reward Received:\", reward)\n",
    "    print(\"Episode Terminated:\", done)\n",
    "    print(\"Info:\", info)"
   ]
  },
  {
   "cell_type": "markdown",
   "metadata": {},
   "source": [
    "In practice, when we train the agent we use a loop to allow the agent to take many consecutive actions during an episode."
   ]
  },
  {
   "cell_type": "markdown",
   "metadata": {},
   "source": [
    "<a name=\"6\"></a>\n",
    "## 6 - Deep Q-Learning\n",
    "\n",
    "In cases where both the state and action space are discrete we can estimate the action-value function iteratively by using the Bellman equation:\n",
    "\n",
    "$$\n",
    "Q_{i+1}(s,a) = R + \\gamma \\max_{a'}Q_i(s',a')\n",
    "$$\n",
    "\n",
    "This iterative method converges to the optimal action-value function $Q^*(s,a)$ as $i\\to\\infty$. This means that the agent just needs to gradually explore the state-action space and keep updating the estimate of $Q(s,a)$ until it converges to the optimal action-value function $Q^*(s,a)$. However, in cases where the state space is continuous it becomes practically impossible to explore the entire state-action space. Consequently, this also makes it practically impossible to gradually estimate $Q(s,a)$ until it converges to $Q^*(s,a)$.\n",
    "\n",
    "In the Deep $Q$-Learning, we solve this problem by using a neural network to estimate the action-value function $Q(s,a)\\approx Q^*(s,a)$. We call this neural network a $Q$-Network and it can be trained by adjusting its weights at each iteration to minimize the mean-squared error in the Bellman equation.\n",
    "\n",
    "Unfortunately, using neural networks in reinforcement learning to estimate action-value functions has proven to be highly unstable. Luckily, there's a couple of techniques that can be employed to avoid instabilities. These techniques consist of using a ***Target Network*** and ***Experience Replay***. We will explore these two techniques in the following sections."
   ]
  },
  {
   "cell_type": "markdown",
   "metadata": {},
   "source": [
    "<a name=\"6.1\"></a>\n",
    "### 6.1 Target Network\n",
    "\n",
    "We can train the $Q$-Network by adjusting it's weights at each iteration to minimize the mean-squared error in the Bellman equation, where the target values are given by:\n",
    "\n",
    "$$\n",
    "y = R + \\gamma \\max_{a'}Q(s',a';w)\n",
    "$$\n",
    "\n",
    "where $w$ are the weights of the $Q$-Network. This means that we are adjusting the weights $w$ at each iteration to minimize the following error:\n",
    "\n",
    "$$\n",
    "\\overbrace{\\underbrace{R + \\gamma \\max_{a'}Q(s',a'; w)}_{\\rm {y~target}} - Q(s,a;w)}^{\\rm {Error}}\n",
    "$$\n",
    "\n",
    "Notice that this forms a problem because the $y$ target is changing on every iteration. Having a constantly moving target can lead to oscillations and instabilities. To avoid this, we can create\n",
    "a separate neural network for generating the $y$ targets. We call this separate neural network the **target $\\hat Q$-Network** and it will have the same architecture as the original $Q$-Network. By using the target $\\hat Q$-Network, the above error becomes:\n",
    "\n",
    "$$\n",
    "\\overbrace{\\underbrace{R + \\gamma \\max_{a'}\\hat{Q}(s',a'; w^-)}_{\\rm {y~target}} - Q(s,a;w)}^{\\rm {Error}}\n",
    "$$\n",
    "\n",
    "where $w^-$ and $w$ are the weights the target $\\hat Q$-Network and $Q$-Network, respectively.\n",
    "\n",
    "In practice, we will use the following algorithm: every $C$ time steps we will use the $\\hat Q$-Network to generate the $y$ targets and update the weights of the target $\\hat Q$-Network using the weights of the $Q$-Network. We will update the weights $w^-$ of the the target $\\hat Q$-Network using a **soft update**. This means that we will update the weights $w^-$ using the following rule:\n",
    " \n",
    "$$\n",
    "w^-\\leftarrow \\tau w + (1 - \\tau) w^-\n",
    "$$\n",
    "\n",
    "where $\\tau\\ll 1$. By using the soft update, we are ensuring that the target values, $y$, change slowly, which greatly improves the stability of our learning algorithm."
   ]
  },
  {
   "cell_type": "markdown",
   "metadata": {},
   "source": [
    "<a name=\"ex01\"></a>\n",
    "### Exercise 1\n",
    "\n",
    "In this exercise you will create the $Q$ and target $\\hat Q$ networks and set the optimizer. Remember that the Deep $Q$-Network (DQN) is a neural network that approximates the action-value function $Q(s,a)\\approx Q^*(s,a)$. It does this by learning how to map states to $Q$ values.\n",
    "\n",
    "To solve the Lunar Lander environment, we are going to employ a DQN with the following architecture:\n",
    "\n",
    "* An `Input` layer that takes `state_size` as input.\n",
    "\n",
    "* A `Dense` layer with `64` units and a `relu` activation function.\n",
    "\n",
    "* A `Dense` layer with `64` units and a `relu` activation function.\n",
    "\n",
    "* A `Dense` layer with `num_actions` units and a `linear` activation function. This will be the output layer of our network.\n",
    "\n",
    "\n",
    "In the cell below you should create the $Q$-Network and the target $\\hat Q$-Network using the model architecture described above. Remember that both the $Q$-Network and the target $\\hat Q$-Network have the same architecture.\n",
    "\n",
    "Lastly, you should set `Adam` as the optimizer with a learning rate equal to `ALPHA`. Recall that `ALPHA` was defined in the [Hyperparameters](#2) section. We should note that for this exercise you should use the already imported packages:\n",
    "```python\n",
    "from tensorflow.keras.layers import Dense, Input\n",
    "from tensorflow.keras.optimizers import Adam\n",
    "```"
   ]
  },
  {
   "cell_type": "code",
   "execution_count": 23,
   "metadata": {},
   "outputs": [],
   "source": [
    "# UNQ_C1\n",
    "# GRADED CELL\n",
    "\n",
    "# Create the Q-Network\n",
    "q_network = Sequential([\n",
    "    ### START CODE HERE ### \n",
    "    tf.keras.Input(shape=state_size),\n",
    "    tf.keras.layers.Dense(64, activation='relu'),\n",
    "    tf.keras.layers.Dense(64, activation='relu'),\n",
    "    tf.keras.layers.Dense(num_actions)\n",
    "    ### END CODE HERE ### \n",
    "    ])\n",
    "\n",
    "# Create the target Q^-Network\n",
    "target_q_network = Sequential([\n",
    "    ### START CODE HERE ### \n",
    "    tf.keras.Input(shape=state_size),\n",
    "    tf.keras.layers.Dense(64, activation='relu'),\n",
    "    tf.keras.layers.Dense(64, activation='relu'),\n",
    "    tf.keras.layers.Dense(num_actions)\n",
    "    ### END CODE HERE ###\n",
    "    ])\n",
    "\n",
    "### START CODE HERE ### \n",
    "optimizer = tf.keras.optimizers.Adam(learning_rate=ALPHA)\n",
    "### END CODE HERE ###"
   ]
  },
  {
   "cell_type": "code",
   "execution_count": 24,
   "metadata": {},
   "outputs": [
    {
     "name": "stdout",
     "output_type": "stream",
     "text": [
      "\u001b[92mAll tests passed!\n",
      "\u001b[92mAll tests passed!\n",
      "\u001b[92mAll tests passed!\n"
     ]
    }
   ],
   "source": [
    "# UNIT TEST\n",
    "from public_tests import *\n",
    "\n",
    "test_network(q_network)\n",
    "test_network(target_q_network)\n",
    "test_optimizer(optimizer, ALPHA) "
   ]
  },
  {
   "cell_type": "markdown",
   "metadata": {},
   "source": [
    "<details>\n",
    "  <summary><font size=\"3\" color=\"darkgreen\"><b>Click for hints</b></font></summary>\n",
    "    \n",
    "```python\n",
    "# Create the Q-Network\n",
    "q_network = Sequential([\n",
    "    Input(shape=state_size),                      \n",
    "    Dense(units=64, activation='relu'),            \n",
    "    Dense(units=64, activation='relu'),            \n",
    "    Dense(units=num_actions, activation='linear'),\n",
    "    ])\n",
    "\n",
    "# Create the target Q^-Network\n",
    "target_q_network = Sequential([\n",
    "    Input(shape=state_size),                       \n",
    "    Dense(units=64, activation='relu'),            \n",
    "    Dense(units=64, activation='relu'),            \n",
    "    Dense(units=num_actions, activation='linear'), \n",
    "    ])\n",
    "\n",
    "optimizer = Adam(learning_rate=ALPHA)                                  \n",
    "``` "
   ]
  },
  {
   "cell_type": "markdown",
   "metadata": {},
   "source": [
    "<a name=\"6.2\"></a>\n",
    "### 6.2 Experience Replay\n",
    "\n",
    "When an agent interacts with the environment, the states, actions, and rewards the agent experiences are sequential by nature. If the agent tries to learn from these consecutive experiences it can run into problems due to the strong correlations between them. To avoid this, we employ a technique known as **Experience Replay** to generate uncorrelated experiences for training our agent. Experience replay consists of storing the agent's experiences (i.e the states, actions, and rewards the agent receives) in a memory buffer and then sampling a random mini-batch of experiences from the buffer to do the learning. The experience tuples $(S_t, A_t, R_t, S_{t+1})$ will be added to the memory buffer at each time step as the agent interacts with the environment.\n",
    "\n",
    "For convenience, we will store the experiences as named tuples."
   ]
  },
  {
   "cell_type": "code",
   "execution_count": 25,
   "metadata": {},
   "outputs": [],
   "source": [
    "# Store experiences as named tuples\n",
    "experience = namedtuple(\"Experience\", field_names=[\"state\", \"action\", \"reward\", \"next_state\", \"done\"])"
   ]
  },
  {
   "cell_type": "markdown",
   "metadata": {},
   "source": [
    "By using experience replay we avoid problematic correlations, oscillations and instabilities. In addition, experience replay also allows the agent to potentially use the same experience in multiple weight updates, which increases data efficiency."
   ]
  },
  {
   "cell_type": "markdown",
   "metadata": {},
   "source": [
    "<a name=\"7\"></a>\n",
    "## 7 - Deep Q-Learning Algorithm with Experience Replay\n",
    "\n",
    "Now that we know all the techniques that we are going to use, we can put them togther to arrive at the Deep Q-Learning Algorithm With Experience Replay.\n",
    "<br>\n",
    "<br>\n",
    "<figure>\n",
    "  <img src = \"images/deep_q_algorithm.png\" width = 90% style = \"border: thin silver solid; padding: 0px\">\n",
    "      <figcaption style = \"text-align: center; font-style: italic\">Fig 3. Deep Q-Learning with Experience Replay.</figcaption>\n",
    "</figure>"
   ]
  },
  {
   "cell_type": "markdown",
   "metadata": {},
   "source": [
    "<a name=\"ex02\"></a>\n",
    "### Exercise 2\n",
    "\n",
    "In this exercise you will implement line ***12*** of the algorithm outlined in *Fig 3* above and you will also compute the loss between the $y$ targets and the $Q(s,a)$ values. In the cell below, complete the `compute_loss` function by setting the $y$ targets equal to:\n",
    "\n",
    "$$\n",
    "\\begin{equation}\n",
    "    y_j =\n",
    "    \\begin{cases}\n",
    "      R_j & \\text{if episode terminates at step  } j+1\\\\\n",
    "      R_j + \\gamma \\max_{a'}\\hat{Q}(s_{j+1},a') & \\text{otherwise}\\\\\n",
    "    \\end{cases}       \n",
    "\\end{equation}\n",
    "$$\n",
    "\n",
    "Here are a couple of things to note:\n",
    "\n",
    "* The `compute_loss` function takes in a mini-batch of experience tuples. This mini-batch of experience tuples is unpacked to extract the `states`, `actions`, `rewards`, `next_states`, and `done_vals`. You should keep in mind that these variables are *TensorFlow Tensors* whose size will depend on the mini-batch size. For example, if the mini-batch size is `64` then both `rewards` and `done_vals` will be TensorFlow Tensors with `64` elements.\n",
    "\n",
    "\n",
    "* Using `if/else` statements to set the $y$ targets will not work when the variables are tensors with many elements. However, notice that you can use the `done_vals` to implement the above in a single line of code. To do this, recall that the `done` variable is a Boolean variable that takes the value `True` when an episode terminates at step $j+1$ and it is `False` otherwise. Taking into account that a Boolean value of `True` has the numerical value of `1` and a Boolean value of `False` has the numerical value of `0`, you can use the factor `(1 - done_vals)` to implement the above in a single line of code. Here's a hint: notice that `(1 - done_vals)` has a value of `0` when `done_vals` is `True` and a value of `1` when `done_vals` is `False`. \n",
    "\n",
    "Lastly, compute the loss by calculating the Mean-Squared Error (`MSE`) between the `y_targets` and the `q_values`. To calculate the mean-squared error you should use the already imported package `MSE`:\n",
    "```python\n",
    "from tensorflow.keras.losses import MSE\n",
    "```"
   ]
  },
  {
   "cell_type": "code",
   "execution_count": 26,
   "metadata": {},
   "outputs": [],
   "source": [
    "# UNQ_C2\n",
    "# GRADED FUNCTION: calculate_loss\n",
    "\n",
    "def compute_loss(experiences, gamma, q_network, target_q_network):\n",
    "    \"\"\" \n",
    "    Calculates the loss.\n",
    "    \n",
    "    Args:\n",
    "      experiences: (tuple) tuple of [\"state\", \"action\", \"reward\", \"next_state\", \"done\"] namedtuples\n",
    "      gamma: (float) The discount factor.\n",
    "      q_network: (tf.keras.Sequential) Keras model for predicting the q_values\n",
    "      target_q_network: (tf.keras.Sequential) Karas model for predicting the targets\n",
    "          \n",
    "    Returns:\n",
    "      loss: (TensorFlow Tensor(shape=(0,), dtype=int32)) the Mean-Squared Error between\n",
    "            the y targets and the Q(s,a) values.\n",
    "    \"\"\"\n",
    "    \n",
    "    # Unpack the mini-batch of experience tuples\n",
    "    states, actions, rewards, next_states, done_vals = experiences\n",
    "    \n",
    "    # Compute max Q^(s,a)\n",
    "    max_qsa = tf.reduce_max(target_q_network(next_states), axis=-1)\n",
    "    \n",
    "    # Set y = R if episode terminates, otherwise set y = R + γ max Q^(s,a).\n",
    "    ### START CODE HERE ### \n",
    "    y_targets = rewards + (1 - done_vals) * gamma * max_qsa\n",
    "    ### END CODE HERE ###\n",
    "    \n",
    "    # Get the q_values\n",
    "    q_values = q_network(states)\n",
    "    q_values = tf.gather_nd(q_values, tf.stack([tf.range(q_values.shape[0]),\n",
    "                                                tf.cast(actions, tf.int32)], axis=1))\n",
    "        \n",
    "    # Compute the loss\n",
    "    ### START CODE HERE ### \n",
    "    loss = MSE(y_targets, q_values) \n",
    "    ### END CODE HERE ### \n",
    "    \n",
    "    return loss"
   ]
  },
  {
   "cell_type": "code",
   "execution_count": 27,
   "metadata": {},
   "outputs": [
    {
     "name": "stdout",
     "output_type": "stream",
     "text": [
      "\u001b[92mAll tests passed!\n"
     ]
    }
   ],
   "source": [
    "# UNIT TEST    \n",
    "test_compute_loss(compute_loss)"
   ]
  },
  {
   "cell_type": "markdown",
   "metadata": {},
   "source": [
    "<details>\n",
    "  <summary><font size=\"3\" color=\"darkgreen\"><b>Click for hints</b></font></summary>\n",
    "    \n",
    "```python\n",
    "def compute_loss(experiences, gamma, q_network, target_q_network):\n",
    "    \"\"\" \n",
    "    Calculates the loss.\n",
    "    \n",
    "    Args:\n",
    "      experiences: (tuple) tuple of [\"state\", \"action\", \"reward\", \"next_state\", \"done\"] namedtuples\n",
    "      gamma: (float) The discount factor.\n",
    "      q_network: (tf.keras.Sequential) Keras model for predicting the q_values\n",
    "      target_q_network: (tf.keras.Sequential) Karas model for predicting the targets\n",
    "          \n",
    "    Returns:\n",
    "      loss: (TensorFlow Tensor(shape=(0,), dtype=int32)) the Mean-Squared Error between\n",
    "            the y targets and the Q(s,a) values.\n",
    "    \"\"\"\n",
    "\n",
    "    \n",
    "    # Unpack the mini-batch of experience tuples\n",
    "    states, actions, rewards, next_states, done_vals = experiences\n",
    "    \n",
    "    # Compute max Q^(s,a)\n",
    "    max_qsa = tf.reduce_max(target_q_network(next_states), axis=-1)\n",
    "    \n",
    "    # Set y = R if episode terminates, otherwise set y = R + γ max Q^(s,a).\n",
    "    y_targets = rewards + (gamma * max_qsa * (1 - done_vals))\n",
    "    \n",
    "    # Get the q_values\n",
    "    q_values = q_network(states)\n",
    "    q_values = tf.gather_nd(q_values, tf.stack([tf.range(q_values.shape[0]),\n",
    "                                                tf.cast(actions, tf.int32)], axis=1))\n",
    "    \n",
    "    # Calculate the loss\n",
    "    loss = MSE(y_targets, q_values)\n",
    "    \n",
    "    return loss\n",
    "\n",
    "``` \n",
    "    "
   ]
  },
  {
   "cell_type": "markdown",
   "metadata": {},
   "source": [
    "<a name=\"8\"></a>\n",
    "## 8 - Update the Network Weights\n",
    "\n",
    "We will use the `agent_learn` function below to implement lines ***12 -14*** of the algorithm outlined in [Fig 3](#7). The `agent_learn` function will update the weights of the $Q$ and target $\\hat Q$ networks using a custom training loop. Because we are using a custom training loop we need to retrieve the gradients via a `tf.GradientTape` instance, and then call `optimizer.apply_gradients()` to update the weights of our $Q$-Network. Note that we are also using the `@tf.function` decorator to increase performance. Without this decorator our training will take twice as long. If you would like to know more about how to increase performance with `@tf.function` take a look at the [TensorFlow documentation](https://www.tensorflow.org/guide/function).\n",
    "\n",
    "The last line of this function updates the weights of the target $\\hat Q$-Network using a [soft update](#6.1). If you want to know how this is implemented in code we encourage you to take a look at the `utils.update_target_network` function in the `utils` module."
   ]
  },
  {
   "cell_type": "code",
   "execution_count": 29,
   "metadata": {},
   "outputs": [],
   "source": [
    "@tf.function\n",
    "def agent_learn(experiences, gamma):\n",
    "    \"\"\"\n",
    "    Updates the weights of the Q networks.\n",
    "    \n",
    "    Args:\n",
    "      experiences: (tuple) tuple of [\"state\", \"action\", \"reward\", \"next_state\", \"done\"] namedtuples\n",
    "      gamma: (float) The discount factor.\n",
    "    \n",
    "    \"\"\"\n",
    "    \n",
    "    # Calculate the loss\n",
    "    with tf.GradientTape() as tape:\n",
    "        loss = compute_loss(experiences, gamma, q_network, target_q_network)\n",
    "\n",
    "    # Get the gradients of the loss with respect to the weights.\n",
    "    gradients = tape.gradient(loss, q_network.trainable_variables)\n",
    "    \n",
    "    # Update the weights of the q_network.\n",
    "    optimizer.apply_gradients(zip(gradients, q_network.trainable_variables))\n",
    "\n",
    "    # update the weights of target q_network\n",
    "    utils.update_target_network(q_network, target_q_network)"
   ]
  },
  {
   "cell_type": "markdown",
   "metadata": {},
   "source": [
    "<a name=\"9\"></a>\n",
    "## 9 - Train the Agent\n",
    "\n",
    "We are now ready to train our agent to solve the Lunar Lander environment. In the cell below we will implement the algorithm in [Fig 3](#7) line by line (please note that we have included the same algorithm below for easy reference. This will prevent you from scrolling up and down the notebook):\n",
    "\n",
    "* **Line 1**: We initialize the `memory_buffer` with a capacity of $N =$ `MEMORY_SIZE`. Notice that we are using a `deque` as the data structure for our `memory_buffer`.\n",
    "\n",
    "\n",
    "* **Line 2**: We skip this line since we already initialized the `q_network` in [Exercise 1](#ex01).\n",
    "\n",
    "\n",
    "* **Line 3**: We initialize the `target_q_network` by setting its weights to be equal to those of the `q_network`.\n",
    "\n",
    "\n",
    "* **Line 4**: We start the outer loop. Notice that we have set $M =$ `num_episodes = 2000`. This number is reasonable because the agent should be able to solve the Lunar Lander environment in less than `2000` episodes using this notebook's default parameters.\n",
    "\n",
    "\n",
    "* **Line 5**: We use the `.reset()` method to reset the environment to the initial state and get the initial state.\n",
    "\n",
    "\n",
    "* **Line 6**: We start the inner loop. Notice that we have set $T =$ `max_num_timesteps = 1000`. This means that the episode will automatically terminate if the episode hasn't terminated after `1000` time steps.\n",
    "\n",
    "\n",
    "* **Line 7**: The agent observes the current `state` and chooses an `action` using an $\\epsilon$-greedy policy. Our agent starts out using a value of $\\epsilon =$ `epsilon = 1` which yields an $\\epsilon$-greedy policy that is equivalent to the equiprobable random policy. This means that at the beginning of our training, the agent is just going to take random actions regardless of the observed `state`. As training progresses we will decrease the value of $\\epsilon$ slowly towards a minimum value using a given $\\epsilon$-decay rate. We want this minimum value to be close to zero because a value of $\\epsilon = 0$ will yield an $\\epsilon$-greedy policy that is equivalent to the greedy policy. This means that towards the end of training, the agent will lean towards selecting the `action` that it believes (based on its past experiences) will maximize $Q(s,a)$. We will set the minimum $\\epsilon$ value to be `0.01` and not exactly 0 because we always want to keep a little bit of exploration during training. If you want to know how this is implemented in code we encourage you to take a look at the `utils.get_action` function in the `utils` module.\n",
    "\n",
    "\n",
    "* **Line 8**: We use the `.step()` method to take the given `action` in the environment and get the `reward` and the `next_state`. \n",
    "\n",
    "\n",
    "* **Line 9**: We store the `experience(state, action, reward, next_state, done)` tuple in our `memory_buffer`. Notice that we also store the `done` variable so that we can keep track of when an episode terminates. This allowed us to set the $y$ targets in [Exercise 2](#ex02).\n",
    "\n",
    "\n",
    "* **Line 10**: We check if the conditions are met to perform a learning update. We do this by using our custom `utils.check_update_conditions` function. This function checks if $C =$ `NUM_STEPS_FOR_UPDATE = 4` time steps have occured and if our `memory_buffer` has enough experience tuples to fill a mini-batch. For example, if the mini-batch size is `64`, then our `memory_buffer` should have at least `64` experience tuples in order to pass the latter condition. If the conditions are met, then the `utils.check_update_conditions` function will return a value of `True`, otherwise it will return a value of `False`.\n",
    "\n",
    "\n",
    "* **Lines 11 - 14**: If the `update` variable is `True` then we perform a learning update. The learning update consists of sampling a random mini-batch of experience tuples from our `memory_buffer`, setting the $y$ targets, performing gradient descent, and updating the weights of the networks. We will use the `agent_learn` function we defined in [Section 8](#8) to perform the latter 3.\n",
    "\n",
    "\n",
    "* **Line 15**: At the end of each iteration of the inner loop we set `next_state` as our new `state` so that the loop can start again from this new state. In addition, we check if the episode has reached a terminal state (i.e we check if `done = True`). If a terminal state has been reached, then we break out of the inner loop.\n",
    "\n",
    "\n",
    "* **Line 16**: At the end of each iteration of the outer loop we update the value of $\\epsilon$, and check if the environment has been solved. We consider that the environment has been solved if the agent receives an average of `200` points in the last `100` episodes. If the environment has not been solved we continue the outer loop and start a new episode.\n",
    "\n",
    "Finally, we wanted to note that we have included some extra variables to keep track of the total number of points the agent received in each episode. This will help us determine if the agent has solved the environment and it will also allow us to see how our agent performed during training. We also use the `time` module to measure how long the training takes. \n",
    "\n",
    "<br>\n",
    "<br>\n",
    "<figure>\n",
    "  <img src = \"images/deep_q_algorithm.png\" width = 90% style = \"border: thin silver solid; padding: 0px\">\n",
    "      <figcaption style = \"text-align: center; font-style: italic\">Fig 4. Deep Q-Learning with Experience Replay.</figcaption>\n",
    "</figure>\n",
    "<br>\n",
    "\n",
    "**Note:** With this notebook's default parameters, the following cell takes between 10 to 15 minutes to run. "
   ]
  },
  {
   "cell_type": "code",
   "execution_count": 30,
   "metadata": {},
   "outputs": [
    {
     "name": "stdout",
     "output_type": "stream",
     "text": [
      "Episode 100 | Total point average of the last 100 episodes: -159.82\n",
      "Episode 200 | Total point average of the last 100 episodes: -75.517\n",
      "Episode 300 | Total point average of the last 100 episodes: -68.23\n",
      "Episode 400 | Total point average of the last 100 episodes: 35.930\n",
      "Episode 500 | Total point average of the last 100 episodes: 128.17\n",
      "Episode 600 | Total point average of the last 100 episodes: 185.82\n",
      "Episode 608 | Total point average of the last 100 episodes: 201.73\n",
      "\n",
      "Environment solved in 608 episodes!\n",
      "\n",
      "Total Runtime: 777.24 s (12.95 min)\n"
     ]
    }
   ],
   "source": [
    "start = time.time()\n",
    "\n",
    "num_episodes = 2000\n",
    "max_num_timesteps = 1000\n",
    "\n",
    "total_point_history = []\n",
    "\n",
    "num_p_av = 100    # number of total points to use for averaging\n",
    "epsilon = 1.0     # initial ε value for ε-greedy policy\n",
    "\n",
    "# Create a memory buffer D with capacity N\n",
    "memory_buffer = deque(maxlen=MEMORY_SIZE)\n",
    "\n",
    "# Set the target network weights equal to the Q-Network weights\n",
    "target_q_network.set_weights(q_network.get_weights())\n",
    "\n",
    "for i in range(num_episodes):\n",
    "    \n",
    "    # Reset the environment to the initial state and get the initial state\n",
    "    state = env.reset()\n",
    "    total_points = 0\n",
    "    \n",
    "    for t in range(max_num_timesteps):\n",
    "        \n",
    "        # From the current state S choose an action A using an ε-greedy policy\n",
    "        state_qn = np.expand_dims(state, axis=0)  # state needs to be the right shape for the q_network\n",
    "        q_values = q_network(state_qn)\n",
    "        action = utils.get_action(q_values, epsilon)\n",
    "        \n",
    "        # Take action A and receive reward R and the next state S'\n",
    "        next_state, reward, done, _ = env.step(action)\n",
    "        \n",
    "        # Store experience tuple (S,A,R,S') in the memory buffer.\n",
    "        # We store the done variable as well for convenience.\n",
    "        memory_buffer.append(experience(state, action, reward, next_state, done))\n",
    "        \n",
    "        # Only update the network every NUM_STEPS_FOR_UPDATE time steps.\n",
    "        update = utils.check_update_conditions(t, NUM_STEPS_FOR_UPDATE, memory_buffer)\n",
    "        \n",
    "        if update:\n",
    "            # Sample random mini-batch of experience tuples (S,A,R,S') from D\n",
    "            experiences = utils.get_experiences(memory_buffer)\n",
    "            \n",
    "            # Set the y targets, perform a gradient descent step,\n",
    "            # and update the network weights.\n",
    "            agent_learn(experiences, GAMMA)\n",
    "        \n",
    "        state = next_state.copy()\n",
    "        total_points += reward\n",
    "        \n",
    "        if done:\n",
    "            break\n",
    "            \n",
    "    total_point_history.append(total_points)\n",
    "    av_latest_points = np.mean(total_point_history[-num_p_av:])\n",
    "    \n",
    "    # Update the ε value\n",
    "    epsilon = utils.get_new_eps(epsilon)\n",
    "\n",
    "    print(f\"\\rEpisode {i+1} | Total point average of the last {num_p_av} episodes: {av_latest_points:.2f}\", end=\"\")\n",
    "\n",
    "    if (i+1) % num_p_av == 0:\n",
    "        print(f\"\\rEpisode {i+1} | Total point average of the last {num_p_av} episodes: {av_latest_points:.2f}\")\n",
    "\n",
    "    # We will consider that the environment is solved if we get an\n",
    "    # average of 200 points in the last 100 episodes.\n",
    "    if av_latest_points >= 200.0:\n",
    "        print(f\"\\n\\nEnvironment solved in {i+1} episodes!\")\n",
    "        q_network.save('lunar_lander_model.h5')\n",
    "        break\n",
    "        \n",
    "tot_time = time.time() - start\n",
    "\n",
    "print(f\"\\nTotal Runtime: {tot_time:.2f} s ({(tot_time/60):.2f} min)\")"
   ]
  },
  {
   "cell_type": "markdown",
   "metadata": {},
   "source": [
    "We can plot the point history to see how our agent improved during training."
   ]
  },
  {
   "cell_type": "code",
   "execution_count": 31,
   "metadata": {
    "id": "E_EUXxurfe8m",
    "scrolled": false
   },
   "outputs": [
    {
     "data": {
      "image/png": "[encoded data removed]",
      "text/plain": [
       "<Figure size 720x504 with 1 Axes>"
      ]
     },
     "metadata": {},
     "output_type": "display_data"
    }
   ],
   "source": [
    "# Plot the point history\n",
    "utils.plot_history(total_point_history)"
   ]
  },
  {
   "cell_type": "markdown",
   "metadata": {
    "id": "c_xwgaX5MnYt"
   },
   "source": [
    "<a name=\"10\"></a>\n",
    "## 10 - See the Trained Agent In Action\n",
    "\n",
    "Now that we have trained our agent, we can see it in action. We will use the `utils.create_video` function to create a video of our agent interacting with the environment using the trained $Q$-Network. The `utils.create_video` function uses the `imageio` library to create the video. This library produces some warnings that can be distracting, so, to suppress these warnings we run the code below."
   ]
  },
  {
   "cell_type": "code",
   "execution_count": 32,
   "metadata": {},
   "outputs": [],
   "source": [
    "# Suppress warnings from imageio\n",
    "import logging\n",
    "logging.getLogger().setLevel(logging.ERROR)"
   ]
  },
  {
   "cell_type": "markdown",
   "metadata": {},
   "source": [
    "In the cell below we create a video of our agent interacting with the Lunar Lander environment using the trained `q_network`. The video is saved to the `videos` folder with the given `filename`. We use the `utils.embed_mp4` function to embed the video in the Jupyter Notebook so that we can see it here directly without having to download it.\n",
    "\n",
    "We should note that since the lunar lander starts with a random initial force applied to its center of mass, every time you run the cell below you will see a different video. If the agent was trained properly, it should be able to land the lunar lander in the landing pad every time, regardless of the initial force applied to its center of mass."
   ]
  },
  {
   "cell_type": "code",
   "execution_count": 34,
   "metadata": {
    "id": "3Ttb_zLeJKiG"
   },
   "outputs": [
    {
     "data": {
      "text/html": [
       "\n",
       "    <video width=\"840\" height=\"480\" controls>\n",
       "    <source src=\"data:video/mp4;base64,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\" type=\"video/mp4\">\n",
       "    Your browser does not support the video tag.\n",
       "    </video>"
      ],
      "text/plain": [
       "<IPython.core.display.HTML object>"
      ]
     },
     "execution_count": 34,
     "metadata": {},
     "output_type": "execute_result"
    }
   ],
   "source": [
    "filename = \"./videos/lunar_lander.mp4\"\n",
    "\n",
    "utils.create_video(filename, env, q_network)\n",
    "utils.embed_mp4(filename)"
   ]
  },
  {
   "cell_type": "markdown",
   "metadata": {},
   "source": [
    "<a name=\"11\"></a>\n",
    "## 11 - Congratulations!\n",
    "\n",
    "You have successfully used Deep Q-Learning with Experience Replay to train an agent to land a lunar lander safely on a landing pad on the surface of the moon. Congratulations!"
   ]
  },
  {
   "cell_type": "markdown",
   "metadata": {},
   "source": [
    "<a name=\"12\"></a>\n",
    "## 12 - References\n",
    "\n",
    "If you would like to learn more about Deep Q-Learning, we recommend you check out the following papers.\n",
    "\n",
    "\n",
    "* [Human-level Control Through Deep Reinforcement Learning](https://storage.googleapis.com/deepmind-media/dqn/DQNNaturePaper.pdf)\n",
    "\n",
    "\n",
    "* [Continuous Control with Deep Reinforcement Learning](https://arxiv.org/pdf/1509.02971.pdf)\n",
    "\n",
    "\n",
    "* [Playing Atari with Deep Reinforcement Learning](https://www.cs.toronto.edu/~vmnih/docs/dqn.pdf)"
   ]
  },
  {
   "cell_type": "code",
   "execution_count": null,
   "metadata": {},
   "outputs": [],
   "source": []
  }
 ],
 "metadata": {
  "accelerator": "GPU",
  "colab": {
   "collapsed_sections": [],
   "name": "TensorFlow - Lunar Lander.ipynb",
   "provenance": []
  },
  "kernelspec": {
   "display_name": "Python 3",
   "language": "python",
   "name": "python3"
  },
  "language_info": {
   "codemirror_mode": {
    "name": "ipython",
    "version": 3
   },
   "file_extension": ".py",
   "mimetype": "text/x-python",
   "name": "python",
   "nbconvert_exporter": "python",
   "pygments_lexer": "ipython3",
   "version": "3.7.6"
  }
 },
 "nbformat": 4,
 "nbformat_minor": 1
}
